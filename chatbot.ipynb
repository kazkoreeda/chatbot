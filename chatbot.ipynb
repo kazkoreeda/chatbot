{
 "cells": [
  {
   "cell_type": "code",
   "execution_count": null,
   "id": "a49e4aa0",
   "metadata": {},
   "outputs": [
    {
     "name": "stdout",
     "output_type": "stream",
     "text": [
      ">こんにちは\n",
      "こんにちは！ご機嫌いかがですか？\n",
      ">TEST\n",
      "None\n"
     ]
    }
   ],
   "source": [
    "import nltk\n",
    "from nltk.chat.util import Chat, reflections\n",
    "\n",
    "# 対話ペアの定義\n",
    "pairs = [\n",
    "    [\n",
    "        r\"こんにちは\",\n",
    "        [\"こんにちは！ご機嫌いかがですか？\",]\n",
    "    ],\n",
    "    [\n",
    "        r\"さようなら\",\n",
    "        [\"さようなら。またお話ししましょう。\",]\n",
    "    ],\n",
    "]\n",
    "\n",
    "# チャットボットの作成\n",
    "chatbot = Chat(pairs, reflections)\n",
    "\n",
    "# チャット開始\n",
    "chatbot.converse()"
   ]
  },
  {
   "cell_type": "code",
   "execution_count": null,
   "id": "aae3d420",
   "metadata": {},
   "outputs": [],
   "source": []
  }
 ],
 "metadata": {
  "kernelspec": {
   "display_name": "Python 3 (ipykernel)",
   "language": "python",
   "name": "python3"
  },
  "language_info": {
   "codemirror_mode": {
    "name": "ipython",
    "version": 3
   },
   "file_extension": ".py",
   "mimetype": "text/x-python",
   "name": "python",
   "nbconvert_exporter": "python",
   "pygments_lexer": "ipython3",
   "version": "3.11.5"
  }
 },
 "nbformat": 4,
 "nbformat_minor": 5
}
